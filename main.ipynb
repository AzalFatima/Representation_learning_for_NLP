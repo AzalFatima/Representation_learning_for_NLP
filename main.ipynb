{
 "cells": [
  {
   "cell_type": "code",
   "execution_count": 107,
   "metadata": {
    "id": "k4_YHbs6P-0q"
   },
   "outputs": [],
   "source": [
    "import numpy as np\n",
    "import pandas as pd\n",
    "import string\n",
    "import itertools\n",
    "import matplotlib.pyplot as plt\n",
    "from tqdm import tqdm_notebook as tqdm\n",
    "\n",
    "from gensim.models import *\n",
    "\n",
    "import tensorflow as tf\n",
    "from tensorflow.keras.utils import *\n",
    "from tensorflow.keras.layers import *\n",
    "from tensorflow.keras.models import *\n",
    "import tensorflow.keras.backend as K\n",
    "from tensorflow.keras.preprocessing.text import Tokenizer\n",
    "from tensorflow.keras.preprocessing.sequence import pad_sequences\n",
    "\n",
    "from sklearn.model_selection import train_test_split\n",
    "from sklearn.metrics import classification_report, confusion_matrix"
   ]
  },
  {
   "cell_type": "code",
   "execution_count": 108,
   "metadata": {
    "colab": {
     "base_uri": "https://localhost:8080/"
    },
    "id": "1DyIBfKafx2Y",
    "outputId": "7819e9f7-45f3-42c9-e341-41e346c9a2e0"
   },
   "outputs": [
    {
     "name": "stdout",
     "output_type": "stream",
     "text": [
      "Drive already mounted at /content/drive; to attempt to forcibly remount, call drive.mount(\"/content/drive\", force_remount=True).\n"
     ]
    }
   ],
   "source": [
    "from google.colab import drive\n",
    "drive.mount('/content/drive')"
   ]
  },
  {
   "cell_type": "code",
   "execution_count": 109,
   "metadata": {
    "id": "fSX84KmDTBDx"
   },
   "outputs": [],
   "source": [
    "df = pd.read_csv(\"/content/drive/MyDrive/TrainData.csv\")\n",
    "df_test = pd.read_csv(\"/content/drive/MyDrive/TestData_Inputs.csv\")\n",
    "df_labels = pd.read_excel(\"/content/drive/MyDrive/Assignment4_TestLabels.xlsx\", sheet_name=0, usecols = [0, 2], names = ['ArticleId', 'Category'])\n",
    "#df_labels = pd.read_csv(\"/content/drive/MyDrive/DLNP Assignments/Assignment 4/Assignment4_TestLabels.xlsx\")"
   ]
  },
  {
   "cell_type": "code",
   "execution_count": 132,
   "metadata": {
    "id": "_1Iw5XfIA0BR"
   },
   "outputs": [],
   "source": [
    "\n"
   ]
  },
  {
   "cell_type": "code",
   "execution_count": 133,
   "metadata": {
    "colab": {
     "base_uri": "https://localhost:8080/"
    },
    "id": "wtKScqWPCfZa",
    "outputId": "9764e7ac-121b-40aa-a095-7ec9264fbde6"
   },
   "outputs": [
    {
     "data": {
      "text/plain": [
       "0       1866\n",
       "1       2016\n",
       "2       3104\n",
       "3       3618\n",
       "4       2190\n",
       "        ... \n",
       "1485    1266\n",
       "1486    3111\n",
       "1487    1370\n",
       "1488    3242\n",
       "1489    1723\n",
       "Name: Text, Length: 1490, dtype: int64"
      ]
     },
     "execution_count": 133,
     "metadata": {},
     "output_type": "execute_result"
    }
   ],
   "source": [
    "text_len"
   ]
  },
  {
   "cell_type": "code",
   "execution_count": 110,
   "metadata": {
    "colab": {
     "base_uri": "https://localhost:8080/"
    },
    "id": "t0qtfwMkXQOS",
    "outputId": "ca546844-b52e-468d-bcd5-b6ee3a19a3bb"
   },
   "outputs": [
    {
     "data": {
      "text/plain": [
       "pandas.core.frame.DataFrame"
      ]
     },
     "execution_count": 110,
     "metadata": {},
     "output_type": "execute_result"
    }
   ],
   "source": [
    "type(df_labels)"
   ]
  },
  {
   "cell_type": "code",
   "execution_count": 111,
   "metadata": {
    "colab": {
     "base_uri": "https://localhost:8080/"
    },
    "id": "AfMSRxGlTH69",
    "outputId": "bb106e24-b113-4df6-bc05-a4df881c7569"
   },
   "outputs": [
    {
     "data": {
      "text/plain": [
       "<bound method NDFrame.describe of                                                    Text       Category\n",
       "0     worldcom ex-boss launches defence lawyers defe...       business\n",
       "1     german business confidence slides german busin...       business\n",
       "2     bbc poll indicates economic gloom citizens in ...       business\n",
       "3     lifestyle  governs mobile choice  faster  bett...           tech\n",
       "4     enron bosses in $168m payout eighteen former e...       business\n",
       "...                                                 ...            ...\n",
       "1485  double eviction from big brother model caprice...  entertainment\n",
       "1486  dj double act revamp chart show dj duo jk and ...  entertainment\n",
       "1487  weak dollar hits reuters revenues at media gro...       business\n",
       "1488  apple ipod family expands market apple has exp...           tech\n",
       "1489  santy worm makes unwelcome visit thousands of ...           tech\n",
       "\n",
       "[1490 rows x 2 columns]>"
      ]
     },
     "execution_count": 111,
     "metadata": {},
     "output_type": "execute_result"
    }
   ],
   "source": [
    "df.describe"
   ]
  },
  {
   "cell_type": "code",
   "execution_count": 112,
   "metadata": {
    "colab": {
     "base_uri": "https://localhost:8080/"
    },
    "id": "TvLo3mTiWI8W",
    "outputId": "27d6f4c8-ef7d-4815-e5db-005780ec120e"
   },
   "outputs": [
    {
     "data": {
      "text/plain": [
       "<bound method NDFrame.describe of      ArticleId                                               Text\n",
       "0         1018  qpr keeper day heads for preston queens park r...\n",
       "1         1319  software watching while you work software that...\n",
       "2         1138  d arcy injury adds to ireland woe gordon d arc...\n",
       "3          459  india s reliance family feud heats up the ongo...\n",
       "4         1020  boro suffer morrison injury blow middlesbrough...\n",
       "..         ...                                                ...\n",
       "730       1923  eu to probe alitalia  state aid  the european ...\n",
       "731        373  u2 to play at grammy awards show irish rock ba...\n",
       "732       1704  sport betting rules in spotlight a group of mp...\n",
       "733        206  alfa romeos  to get gm engines  fiat is to sto...\n",
       "734        471  citizenship event for 18s touted citizenship c...\n",
       "\n",
       "[735 rows x 2 columns]>"
      ]
     },
     "execution_count": 112,
     "metadata": {},
     "output_type": "execute_result"
    }
   ],
   "source": [
    "df_test.describe"
   ]
  },
  {
   "cell_type": "markdown",
   "metadata": {
    "id": "sZ7GWxElpO5m"
   },
   "source": [
    "Preprocessing of the data\n"
   ]
  },
  {
   "cell_type": "code",
   "execution_count": 134,
   "metadata": {
    "id": "J5Zeuzm-TIha"
   },
   "outputs": [],
   "source": [
    "df[\"Text\"] = df[\"Text\"].str.lower()\n",
    "\n",
    "df_test[\"Text\"] = df_test[\"Text\"].str.lower()"
   ]
  },
  {
   "cell_type": "code",
   "execution_count": 135,
   "metadata": {
    "id": "El2wEYDJpjPe"
   },
   "outputs": [],
   "source": [
    "PUNCT_TO_REMOVE = string.punctuation\n",
    "def remove_punctuation(text):\n",
    "    \"\"\"custom function to remove the punctuation\"\"\"\n",
    "    return text.translate(str.maketrans('', '', PUNCT_TO_REMOVE))\n",
    "\n",
    "df[\"Text\"] = df[\"Text\"].apply(lambda text: remove_punctuation(text))\n",
    "\n",
    "df_test[\"Text\"] = df_test[\"Text\"].apply(lambda text: remove_punctuation(text))"
   ]
  },
  {
   "cell_type": "code",
   "execution_count": 136,
   "metadata": {
    "colab": {
     "base_uri": "https://localhost:8080/"
    },
    "id": "f9_ktzkTpxxd",
    "outputId": "1a2f93fd-4b63-41f2-875c-98b928c69411"
   },
   "outputs": [
    {
     "name": "stdout",
     "output_type": "stream",
     "text": [
      "[nltk_data] Downloading package stopwords to /root/nltk_data...\n",
      "[nltk_data]   Package stopwords is already up-to-date!\n"
     ]
    }
   ],
   "source": [
    "import nltk\n",
    "nltk.download('stopwords')\n",
    "from nltk.corpus import stopwords"
   ]
  },
  {
   "cell_type": "code",
   "execution_count": 137,
   "metadata": {
    "id": "AZjG1h57p4CC"
   },
   "outputs": [],
   "source": [
    "STOPWORDS = set(stopwords.words('english'))\n",
    "def remove_stopwords(text):\n",
    "    \"\"\"custom function to remove the stopwords\"\"\"\n",
    "    return \" \".join([word for word in str(text).split() if word not in STOPWORDS])\n",
    "\n",
    "df[\"Text\"] = df[\"Text\"].apply(lambda text: remove_stopwords(text))\n",
    "\n",
    "df_test[\"Text\"] = df_test[\"Text\"].apply(lambda text: remove_stopwords(text))"
   ]
  },
  {
   "cell_type": "code",
   "execution_count": 138,
   "metadata": {
    "colab": {
     "base_uri": "https://localhost:8080/"
    },
    "id": "77A02gZ6qN4Q",
    "outputId": "1ffcb064-0c7e-414f-ec88-fb54f66f42a2"
   },
   "outputs": [
    {
     "name": "stdout",
     "output_type": "stream",
     "text": [
      "[nltk_data] Downloading package wordnet to /root/nltk_data...\n",
      "[nltk_data]   Package wordnet is already up-to-date!\n"
     ]
    }
   ],
   "source": [
    "nltk.download('wordnet')\n",
    "from nltk.stem import WordNetLemmatizer\n",
    "\n",
    "lemmatizer = WordNetLemmatizer()\n",
    "def lemmatize_words(text):\n",
    "    return \" \".join([lemmatizer.lemmatize(word) for word in text.split()])\n",
    "\n",
    "df[\"Text\"] = df[\"Text\"].apply(lambda text: lemmatize_words(text))\n",
    "\n",
    "df_test[\"Text\"] = df_test[\"Text\"].apply(lambda text: lemmatize_words(text))"
   ]
  },
  {
   "cell_type": "code",
   "execution_count": 153,
   "metadata": {
    "colab": {
     "base_uri": "https://localhost:8080/"
    },
    "id": "eXHSJ32NC6Ox",
    "outputId": "1ad7581b-bad5-4373-edea-452047ab1337"
   },
   "outputs": [
    {
     "data": {
      "text/plain": [
       "0       191\n",
       "1       203\n",
       "2       292\n",
       "3       353\n",
       "4       211\n",
       "       ... \n",
       "1485    124\n",
       "1486    314\n",
       "1487    148\n",
       "1488    327\n",
       "1489    173\n",
       "Name: Text, Length: 1490, dtype: int64"
      ]
     },
     "execution_count": 153,
     "metadata": {},
     "output_type": "execute_result"
    }
   ],
   "source": [
    "text_len = list()\n",
    "\n",
    "text_len = (df[\"Text\"]).str.split().str.len()\n",
    "text_len"
   ]
  },
  {
   "cell_type": "code",
   "execution_count": 154,
   "metadata": {
    "colab": {
     "base_uri": "https://localhost:8080/",
     "height": 295
    },
    "id": "lob8UE_mDIl-",
    "outputId": "3ba241cb-ed57-4280-c2ba-61357d0000b7"
   },
   "outputs": [
    {
     "data": {
      "image/png": "[encoded data removed]",
      "text/plain": [
       "<Figure size 432x288 with 1 Axes>"
      ]
     },
     "metadata": {
      "needs_background": "light"
     },
     "output_type": "display_data"
    }
   ],
   "source": [
    "import matplotlib.pyplot as plt\n",
    "x =  list(range(0, 1490))\n",
    "\n",
    "plt.plot(x, text_len)\n",
    " \n",
    "# naming the x axis\n",
    "plt.xlabel('x - axis')\n",
    "# naming the y axis\n",
    "plt.ylabel('y - axis')\n",
    " \n",
    "# giving a title to my graph\n",
    "plt.title('My first graph!')\n",
    " \n",
    "# function to show the plot\n",
    "plt.show()\n",
    "\n",
    " "
   ]
  },
  {
   "cell_type": "code",
   "execution_count": 155,
   "metadata": {
    "colab": {
     "base_uri": "https://localhost:8080/"
    },
    "id": "VsPXw27XFGUD",
    "outputId": "d3712c42-ecf2-4b77-ac99-0bb7e62fc0e6"
   },
   "outputs": [
    {
     "data": {
      "text/plain": [
       "(1490,)"
      ]
     },
     "execution_count": 155,
     "metadata": {},
     "output_type": "execute_result"
    }
   ],
   "source": [
    "x = np.array(x)\n",
    "x.shape"
   ]
  },
  {
   "cell_type": "code",
   "execution_count": 156,
   "metadata": {
    "colab": {
     "base_uri": "https://localhost:8080/"
    },
    "id": "YJhqiR5pFecO",
    "outputId": "bda15f6e-0e52-4948-9b3b-b1e9d850e702"
   },
   "outputs": [
    {
     "data": {
      "text/plain": [
       "1695"
      ]
     },
     "execution_count": 156,
     "metadata": {},
     "output_type": "execute_result"
    }
   ],
   "source": [
    "maxi =max(text_len)\n",
    "maxi"
   ]
  },
  {
   "cell_type": "code",
   "execution_count": 13,
   "metadata": {
    "id": "jKqAnLPNqZVA"
   },
   "outputs": [],
   "source": [
    "import gensim\n",
    "import gensim.downloader"
   ]
  },
  {
   "cell_type": "code",
   "execution_count": 14,
   "metadata": {
    "colab": {
     "base_uri": "https://localhost:8080/"
    },
    "id": "OZeGfWMN0NBq",
    "outputId": "46457693-94ab-4983-a096-6fa7bd84f119"
   },
   "outputs": [
    {
     "name": "stdout",
     "output_type": "stream",
     "text": [
      "[==================================================] 100.0% 376.1/376.1MB downloaded\n"
     ]
    }
   ],
   "source": [
    "glove = gensim.downloader.load('glove-wiki-gigaword-300')"
   ]
  },
  {
   "cell_type": "code",
   "execution_count": 113,
   "metadata": {
    "colab": {
     "base_uri": "https://localhost:8080/"
    },
    "id": "mYoPJmSo6u_X",
    "outputId": "36183d6f-1def-4547-9b9a-2bdd7cf205c6"
   },
   "outputs": [
    {
     "name": "stdout",
     "output_type": "stream",
     "text": [
      "[==================================================] 100.0% 958.5/958.4MB downloaded\n"
     ]
    }
   ],
   "source": [
    "ft = gensim.downloader.load('fasttext-wiki-news-subwords-300')"
   ]
  },
  {
   "cell_type": "code",
   "execution_count": 214,
   "metadata": {
    "colab": {
     "base_uri": "https://localhost:8080/"
    },
    "id": "KCPmHGMy2Zn5",
    "outputId": "7171ce35-1add-4fc8-8fd7-4c3c508e164c"
   },
   "outputs": [
    {
     "name": "stdout",
     "output_type": "stream",
     "text": [
      "24837\n",
      "(1490, 500) (735, 500)\n"
     ]
    }
   ],
   "source": [
    "max_len = 500\n",
    "tokenizer = Tokenizer(lower=True)\n",
    "tokenizer.fit_on_texts(df['Text'])\n",
    "\n",
    "sequence_train = tokenizer.texts_to_sequences(df['Text'])\n",
    "sequence_train = pad_sequences(sequence_train, maxlen=max_len)\n",
    "\n",
    "sequence_test = tokenizer.texts_to_sequences(df_test['Text'])\n",
    "sequence_test = pad_sequences(sequence_test, maxlen=max_len)\n",
    "\n",
    "sequence_train = np.asarray(sequence_train)\n",
    "sequence_test = np.asarray(sequence_test)\n",
    "\n",
    "word_index = tokenizer.word_index\n",
    "vocab_size = len(word_index)+1\n",
    "\n",
    "print(vocab_size)\n",
    "print(sequence_train.shape, sequence_test.shape)"
   ]
  },
  {
   "cell_type": "code",
   "execution_count": 215,
   "metadata": {
    "colab": {
     "base_uri": "https://localhost:8080/"
    },
    "id": "KlIeCUg51pCO",
    "outputId": "e655a9a4-fa9b-4f92-91c4-593b11344595"
   },
   "outputs": [
    {
     "name": "stdout",
     "output_type": "stream",
     "text": [
      "not in vocabulary 3562\n"
     ]
    },
    {
     "name": "stderr",
     "output_type": "stream",
     "text": [
      "/usr/local/lib/python3.7/dist-packages/ipykernel_launcher.py:7: DeprecationWarning: Call to deprecated `wv` (Attribute will be removed in 4.0.0, use self instead).\n",
      "  import sys\n"
     ]
    }
   ],
   "source": [
    "embedding_matrix_glove = np.random.random((len(tokenizer.word_index)+1, 300))\n",
    "\n",
    "pas = 0\n",
    "for word,i in tokenizer.word_index.items():\n",
    "    \n",
    "    try:\n",
    "        embedding_matrix_glove[i] = glove.wv[word]\n",
    "    except:\n",
    "        pas+=1\n",
    "        \n",
    "print('not in vocabulary', pas)"
   ]
  },
  {
   "cell_type": "code",
   "execution_count": 216,
   "metadata": {
    "colab": {
     "base_uri": "https://localhost:8080/"
    },
    "id": "es3e7Sf87W9c",
    "outputId": "38de831b-1300-4f2a-92b6-c4b66709978b"
   },
   "outputs": [
    {
     "name": "stdout",
     "output_type": "stream",
     "text": [
      "not in vocabulary 5766\n"
     ]
    },
    {
     "name": "stderr",
     "output_type": "stream",
     "text": [
      "/usr/local/lib/python3.7/dist-packages/ipykernel_launcher.py:7: DeprecationWarning: Call to deprecated `wv` (Attribute will be removed in 4.0.0, use self instead).\n",
      "  import sys\n"
     ]
    }
   ],
   "source": [
    "embedding_matrix_ft = np.random.random((len(tokenizer.word_index)+1 , 300))\n",
    "\n",
    "pas = 0\n",
    "for word,i in tokenizer.word_index.items():\n",
    "    \n",
    "    try:\n",
    "        embedding_matrix_ft[i] = ft.wv[word]\n",
    "    except:\n",
    "        pas+=1\n",
    "        \n",
    "print('not in vocabulary', pas)"
   ]
  },
  {
   "cell_type": "code",
   "execution_count": 217,
   "metadata": {
    "colab": {
     "base_uri": "https://localhost:8080/"
    },
    "id": "2Vn-0P89X5u5",
    "outputId": "4f6d0e78-78d1-45f9-ebe3-69c2688ea3b1"
   },
   "outputs": [
    {
     "data": {
      "text/plain": [
       "0              sport\n",
       "1               tech\n",
       "2              sport\n",
       "3           business\n",
       "4              sport\n",
       "           ...      \n",
       "730         business\n",
       "731    entertainment\n",
       "732            sport\n",
       "733         business\n",
       "734         politics\n",
       "Name: Category, Length: 735, dtype: object"
      ]
     },
     "execution_count": 217,
     "metadata": {},
     "output_type": "execute_result"
    }
   ],
   "source": [
    "df_labels['Category']"
   ]
  },
  {
   "cell_type": "code",
   "execution_count": 218,
   "metadata": {
    "colab": {
     "base_uri": "https://localhost:8080/",
     "height": 203
    },
    "id": "D9UnVGXkpOHV",
    "outputId": "abf38c64-54c7-45e4-93b3-61471468b45e"
   },
   "outputs": [
    {
     "data": {
      "text/html": [
       "<div>\n",
       "<style scoped>\n",
       "    .dataframe tbody tr th:only-of-type {\n",
       "        vertical-align: middle;\n",
       "    }\n",
       "\n",
       "    .dataframe tbody tr th {\n",
       "        vertical-align: top;\n",
       "    }\n",
       "\n",
       "    .dataframe thead th {\n",
       "        text-align: right;\n",
       "    }\n",
       "</style>\n",
       "<table border=\"1\" class=\"dataframe\">\n",
       "  <thead>\n",
       "    <tr style=\"text-align: right;\">\n",
       "      <th></th>\n",
       "      <th>Text</th>\n",
       "      <th>Category</th>\n",
       "      <th>0</th>\n",
       "      <th>1</th>\n",
       "      <th>2</th>\n",
       "      <th>3</th>\n",
       "      <th>4</th>\n",
       "    </tr>\n",
       "  </thead>\n",
       "  <tbody>\n",
       "    <tr>\n",
       "      <th>0</th>\n",
       "      <td>worldcom exboss launch defence lawyer defendin...</td>\n",
       "      <td>business</td>\n",
       "      <td>1.0</td>\n",
       "      <td>0.0</td>\n",
       "      <td>0.0</td>\n",
       "      <td>0.0</td>\n",
       "      <td>0.0</td>\n",
       "    </tr>\n",
       "    <tr>\n",
       "      <th>1</th>\n",
       "      <td>german business confidence slide german busine...</td>\n",
       "      <td>business</td>\n",
       "      <td>1.0</td>\n",
       "      <td>0.0</td>\n",
       "      <td>0.0</td>\n",
       "      <td>0.0</td>\n",
       "      <td>0.0</td>\n",
       "    </tr>\n",
       "    <tr>\n",
       "      <th>2</th>\n",
       "      <td>bbc poll indicates economic gloom citizen majo...</td>\n",
       "      <td>business</td>\n",
       "      <td>1.0</td>\n",
       "      <td>0.0</td>\n",
       "      <td>0.0</td>\n",
       "      <td>0.0</td>\n",
       "      <td>0.0</td>\n",
       "    </tr>\n",
       "    <tr>\n",
       "      <th>3</th>\n",
       "      <td>lifestyle governs mobile choice faster better ...</td>\n",
       "      <td>tech</td>\n",
       "      <td>0.0</td>\n",
       "      <td>0.0</td>\n",
       "      <td>0.0</td>\n",
       "      <td>0.0</td>\n",
       "      <td>1.0</td>\n",
       "    </tr>\n",
       "    <tr>\n",
       "      <th>4</th>\n",
       "      <td>enron boss 168m payout eighteen former enron d...</td>\n",
       "      <td>business</td>\n",
       "      <td>1.0</td>\n",
       "      <td>0.0</td>\n",
       "      <td>0.0</td>\n",
       "      <td>0.0</td>\n",
       "      <td>0.0</td>\n",
       "    </tr>\n",
       "  </tbody>\n",
       "</table>\n",
       "</div>"
      ],
      "text/plain": [
       "                                                Text  Category  ...    3    4\n",
       "0  worldcom exboss launch defence lawyer defendin...  business  ...  0.0  0.0\n",
       "1  german business confidence slide german busine...  business  ...  0.0  0.0\n",
       "2  bbc poll indicates economic gloom citizen majo...  business  ...  0.0  0.0\n",
       "3  lifestyle governs mobile choice faster better ...      tech  ...  0.0  1.0\n",
       "4  enron boss 168m payout eighteen former enron d...  business  ...  0.0  0.0\n",
       "\n",
       "[5 rows x 7 columns]"
      ]
     },
     "execution_count": 218,
     "metadata": {},
     "output_type": "execute_result"
    }
   ],
   "source": [
    "df.head()\n"
   ]
  },
  {
   "cell_type": "code",
   "execution_count": 219,
   "metadata": {
    "id": "KkQRsP1Wphh2"
   },
   "outputs": [],
   "source": [
    "enc_df = pd.DataFrame(enc.fit_transform(df[['Category']]).toarray())"
   ]
  },
  {
   "cell_type": "code",
   "execution_count": 220,
   "metadata": {
    "id": "HfYRFWCdpz2c"
   },
   "outputs": [],
   "source": [
    "y_train_label = enc_df\n",
    "y_train_label = y_train_label.to_numpy()"
   ]
  },
  {
   "cell_type": "code",
   "execution_count": 183,
   "metadata": {
    "id": "ZlEe1CTTNie7"
   },
   "outputs": [],
   "source": [
    "x_train = df['Text']"
   ]
  },
  {
   "cell_type": "code",
   "execution_count": 221,
   "metadata": {
    "colab": {
     "base_uri": "https://localhost:8080/"
    },
    "id": "ajydI1Pj8PV3",
    "outputId": "e842e1f3-32b5-44e0-e753-1bae76e49afb"
   },
   "outputs": [
    {
     "name": "stdout",
     "output_type": "stream",
     "text": [
      "Model: \"sequential_11\"\n",
      "_________________________________________________________________\n",
      "Layer (type)                 Output Shape              Param #   \n",
      "=================================================================\n",
      "embedding_23 (Embedding)     (None, 500, 300)          7451100   \n",
      "_________________________________________________________________\n",
      "conv1d_14 (Conv1D)           (None, 496, 128)          192128    \n",
      "_________________________________________________________________\n",
      "max_pooling1d_14 (MaxPooling (None, 248, 128)          0         \n",
      "_________________________________________________________________\n",
      "lstm_17 (LSTM)               (None, 64)                49408     \n",
      "_________________________________________________________________\n",
      "flatten_10 (Flatten)         (None, 64)                0         \n",
      "_________________________________________________________________\n",
      "dense_21 (Dense)             (None, 5)                 325       \n",
      "=================================================================\n",
      "Total params: 7,692,961\n",
      "Trainable params: 241,861\n",
      "Non-trainable params: 7,451,100\n",
      "_________________________________________________________________\n",
      "None\n"
     ]
    }
   ],
   "source": [
    "embedding_layer = Embedding(vocab_size, 300, weights=[embedding_matrix_glove], input_length=500, trainable=False)\n",
    "\n",
    "model = Sequential()\n",
    "model.add(embedding_layer)\n",
    "model.add(Conv1D(filters=128, kernel_size=5, activation='relu'))\n",
    "model.add(MaxPooling1D(pool_size=2))\n",
    "model.add(LSTM(64))\n",
    "model.add(Flatten())\n",
    "#model.add(Dense(20, activation='relu'))\n",
    "model.add(Dense(5, activation='softmax'))\n",
    "print(model.summary())"
   ]
  },
  {
   "cell_type": "code",
   "execution_count": 222,
   "metadata": {
    "id": "qsj6PWkJ9jtA"
   },
   "outputs": [],
   "source": [
    "model.compile(loss='categorical_crossentropy', optimizer='adam', metrics=['accuracy'])\n"
   ]
  },
  {
   "cell_type": "code",
   "execution_count": 223,
   "metadata": {
    "colab": {
     "base_uri": "https://localhost:8080/"
    },
    "id": "Wl2oKJZFq85i",
    "outputId": "e5d8b73d-624a-4f04-d5bf-17f0aa7dfb86"
   },
   "outputs": [
    {
     "data": {
      "text/plain": [
       "(1490, 5)"
      ]
     },
     "execution_count": 223,
     "metadata": {},
     "output_type": "execute_result"
    }
   ],
   "source": [
    "y_train_label.shape"
   ]
  },
  {
   "cell_type": "code",
   "execution_count": 224,
   "metadata": {
    "colab": {
     "base_uri": "https://localhost:8080/"
    },
    "id": "ok9pJSC_9x4a",
    "outputId": "1e09ca55-b5bc-43a8-fc75-a18b40045155"
   },
   "outputs": [
    {
     "name": "stdout",
     "output_type": "stream",
     "text": [
      "Epoch 1/10\n",
      "40/40 [==============================] - 16s 363ms/step - loss: 0.6709 - accuracy: 0.7725 - val_loss: 0.2797 - val_accuracy: 0.9062\n",
      "Epoch 2/10\n",
      "40/40 [==============================] - 14s 351ms/step - loss: 0.1685 - accuracy: 0.9447 - val_loss: 0.2230 - val_accuracy: 0.9152\n",
      "Epoch 3/10\n",
      "40/40 [==============================] - 14s 350ms/step - loss: 0.1145 - accuracy: 0.9668 - val_loss: 0.1959 - val_accuracy: 0.9420\n",
      "Epoch 4/10\n",
      "40/40 [==============================] - 14s 349ms/step - loss: 0.1743 - accuracy: 0.9423 - val_loss: 0.2160 - val_accuracy: 0.9464\n",
      "Epoch 5/10\n",
      "40/40 [==============================] - 14s 349ms/step - loss: 0.0803 - accuracy: 0.9787 - val_loss: 0.2211 - val_accuracy: 0.9375\n",
      "Epoch 6/10\n",
      "40/40 [==============================] - 14s 351ms/step - loss: 0.0724 - accuracy: 0.9763 - val_loss: 0.1998 - val_accuracy: 0.9286\n",
      "Epoch 7/10\n",
      "40/40 [==============================] - 14s 349ms/step - loss: 0.0582 - accuracy: 0.9858 - val_loss: 0.1639 - val_accuracy: 0.9464\n",
      "Epoch 8/10\n",
      "40/40 [==============================] - 14s 350ms/step - loss: 0.0433 - accuracy: 0.9858 - val_loss: 0.1970 - val_accuracy: 0.9464\n",
      "Epoch 9/10\n",
      "40/40 [==============================] - 14s 350ms/step - loss: 0.0208 - accuracy: 0.9961 - val_loss: 0.1503 - val_accuracy: 0.9598\n",
      "Epoch 10/10\n",
      "40/40 [==============================] - 14s 350ms/step - loss: 0.0155 - accuracy: 0.9968 - val_loss: 0.1920 - val_accuracy: 0.9509\n"
     ]
    },
    {
     "data": {
      "text/plain": [
       "<keras.callbacks.History at 0x7f1860b0f510>"
      ]
     },
     "execution_count": 224,
     "metadata": {},
     "output_type": "execute_result"
    }
   ],
   "source": [
    "model.fit(sequence_train, y_train_label, epochs=10, verbose=1, validation_split =0.15)"
   ]
  },
  {
   "cell_type": "code",
   "execution_count": 225,
   "metadata": {
    "colab": {
     "base_uri": "https://localhost:8080/"
    },
    "id": "JNDc-my1Y1f6",
    "outputId": "40d9fc26-86d8-48be-9f13-ca3925246745"
   },
   "outputs": [
    {
     "data": {
      "text/plain": [
       "array([[5.6526245e-05, 1.0956049e-04, 4.9655273e-04, 9.9927360e-01,\n",
       "        6.3685642e-05],\n",
       "       [1.6227758e-02, 1.3525148e-03, 2.7154838e-03, 1.5306858e-04,\n",
       "        9.7955120e-01],\n",
       "       [4.9544258e-05, 1.7730556e-04, 6.5910438e-04, 9.9886692e-01,\n",
       "        2.4714033e-04],\n",
       "       ...,\n",
       "       [1.8763101e-01, 3.2621235e-04, 3.5112843e-01, 1.4899173e-02,\n",
       "        4.4601512e-01],\n",
       "       [9.8261696e-01, 2.0905872e-04, 1.5990484e-03, 3.6372314e-03,\n",
       "        1.1937709e-02],\n",
       "       [1.5025440e-03, 2.7668040e-04, 9.9680787e-01, 4.3941452e-04,\n",
       "        9.7341085e-04]], dtype=float32)"
      ]
     },
     "execution_count": 225,
     "metadata": {},
     "output_type": "execute_result"
    }
   ],
   "source": [
    "predictions = model.predict(sequence_test)\n",
    "predictions"
   ]
  },
  {
   "cell_type": "code",
   "execution_count": 226,
   "metadata": {
    "colab": {
     "base_uri": "https://localhost:8080/",
     "height": 417
    },
    "id": "wWpU-sbarcYK",
    "outputId": "1f427dc8-e188-4671-8103-0882b8086427"
   },
   "outputs": [
    {
     "data": {
      "text/html": [
       "<div>\n",
       "<style scoped>\n",
       "    .dataframe tbody tr th:only-of-type {\n",
       "        vertical-align: middle;\n",
       "    }\n",
       "\n",
       "    .dataframe tbody tr th {\n",
       "        vertical-align: top;\n",
       "    }\n",
       "\n",
       "    .dataframe thead th {\n",
       "        text-align: right;\n",
       "    }\n",
       "</style>\n",
       "<table border=\"1\" class=\"dataframe\">\n",
       "  <thead>\n",
       "    <tr style=\"text-align: right;\">\n",
       "      <th></th>\n",
       "      <th>ArticleId</th>\n",
       "      <th>Category</th>\n",
       "    </tr>\n",
       "  </thead>\n",
       "  <tbody>\n",
       "    <tr>\n",
       "      <th>0</th>\n",
       "      <td>1018</td>\n",
       "      <td>sport</td>\n",
       "    </tr>\n",
       "    <tr>\n",
       "      <th>1</th>\n",
       "      <td>1319</td>\n",
       "      <td>tech</td>\n",
       "    </tr>\n",
       "    <tr>\n",
       "      <th>2</th>\n",
       "      <td>1138</td>\n",
       "      <td>sport</td>\n",
       "    </tr>\n",
       "    <tr>\n",
       "      <th>3</th>\n",
       "      <td>459</td>\n",
       "      <td>business</td>\n",
       "    </tr>\n",
       "    <tr>\n",
       "      <th>4</th>\n",
       "      <td>1020</td>\n",
       "      <td>sport</td>\n",
       "    </tr>\n",
       "    <tr>\n",
       "      <th>...</th>\n",
       "      <td>...</td>\n",
       "      <td>...</td>\n",
       "    </tr>\n",
       "    <tr>\n",
       "      <th>730</th>\n",
       "      <td>1923</td>\n",
       "      <td>business</td>\n",
       "    </tr>\n",
       "    <tr>\n",
       "      <th>731</th>\n",
       "      <td>373</td>\n",
       "      <td>entertainment</td>\n",
       "    </tr>\n",
       "    <tr>\n",
       "      <th>732</th>\n",
       "      <td>1704</td>\n",
       "      <td>sport</td>\n",
       "    </tr>\n",
       "    <tr>\n",
       "      <th>733</th>\n",
       "      <td>206</td>\n",
       "      <td>business</td>\n",
       "    </tr>\n",
       "    <tr>\n",
       "      <th>734</th>\n",
       "      <td>471</td>\n",
       "      <td>politics</td>\n",
       "    </tr>\n",
       "  </tbody>\n",
       "</table>\n",
       "<p>735 rows × 2 columns</p>\n",
       "</div>"
      ],
      "text/plain": [
       "     ArticleId       Category\n",
       "0         1018          sport\n",
       "1         1319           tech\n",
       "2         1138          sport\n",
       "3          459       business\n",
       "4         1020          sport\n",
       "..         ...            ...\n",
       "730       1923       business\n",
       "731        373  entertainment\n",
       "732       1704          sport\n",
       "733        206       business\n",
       "734        471       politics\n",
       "\n",
       "[735 rows x 2 columns]"
      ]
     },
     "execution_count": 226,
     "metadata": {},
     "output_type": "execute_result"
    }
   ],
   "source": [
    "df_labels = pd.read_excel(\"/content/drive/MyDrive/Assignment4_TestLabels.xlsx\", sheet_name=0, usecols = [0, 2], names = ['ArticleId', 'Category'])\n",
    "df_labels"
   ]
  },
  {
   "cell_type": "code",
   "execution_count": 227,
   "metadata": {
    "id": "0GGZEYXmrndP"
   },
   "outputs": [],
   "source": [
    "test_label = pd.DataFrame(enc.fit_transform(df_labels[['Category']]).toarray())"
   ]
  },
  {
   "cell_type": "code",
   "execution_count": 228,
   "metadata": {
    "colab": {
     "base_uri": "https://localhost:8080/",
     "height": 417
    },
    "id": "I02ZzDGvruaj",
    "outputId": "659a3ff4-20fe-46e2-a7a7-c4d033541155"
   },
   "outputs": [
    {
     "data": {
      "text/html": [
       "<div>\n",
       "<style scoped>\n",
       "    .dataframe tbody tr th:only-of-type {\n",
       "        vertical-align: middle;\n",
       "    }\n",
       "\n",
       "    .dataframe tbody tr th {\n",
       "        vertical-align: top;\n",
       "    }\n",
       "\n",
       "    .dataframe thead th {\n",
       "        text-align: right;\n",
       "    }\n",
       "</style>\n",
       "<table border=\"1\" class=\"dataframe\">\n",
       "  <thead>\n",
       "    <tr style=\"text-align: right;\">\n",
       "      <th></th>\n",
       "      <th>0</th>\n",
       "      <th>1</th>\n",
       "      <th>2</th>\n",
       "      <th>3</th>\n",
       "      <th>4</th>\n",
       "    </tr>\n",
       "  </thead>\n",
       "  <tbody>\n",
       "    <tr>\n",
       "      <th>0</th>\n",
       "      <td>0.0</td>\n",
       "      <td>0.0</td>\n",
       "      <td>0.0</td>\n",
       "      <td>1.0</td>\n",
       "      <td>0.0</td>\n",
       "    </tr>\n",
       "    <tr>\n",
       "      <th>1</th>\n",
       "      <td>0.0</td>\n",
       "      <td>0.0</td>\n",
       "      <td>0.0</td>\n",
       "      <td>0.0</td>\n",
       "      <td>1.0</td>\n",
       "    </tr>\n",
       "    <tr>\n",
       "      <th>2</th>\n",
       "      <td>0.0</td>\n",
       "      <td>0.0</td>\n",
       "      <td>0.0</td>\n",
       "      <td>1.0</td>\n",
       "      <td>0.0</td>\n",
       "    </tr>\n",
       "    <tr>\n",
       "      <th>3</th>\n",
       "      <td>1.0</td>\n",
       "      <td>0.0</td>\n",
       "      <td>0.0</td>\n",
       "      <td>0.0</td>\n",
       "      <td>0.0</td>\n",
       "    </tr>\n",
       "    <tr>\n",
       "      <th>4</th>\n",
       "      <td>0.0</td>\n",
       "      <td>0.0</td>\n",
       "      <td>0.0</td>\n",
       "      <td>1.0</td>\n",
       "      <td>0.0</td>\n",
       "    </tr>\n",
       "    <tr>\n",
       "      <th>...</th>\n",
       "      <td>...</td>\n",
       "      <td>...</td>\n",
       "      <td>...</td>\n",
       "      <td>...</td>\n",
       "      <td>...</td>\n",
       "    </tr>\n",
       "    <tr>\n",
       "      <th>730</th>\n",
       "      <td>1.0</td>\n",
       "      <td>0.0</td>\n",
       "      <td>0.0</td>\n",
       "      <td>0.0</td>\n",
       "      <td>0.0</td>\n",
       "    </tr>\n",
       "    <tr>\n",
       "      <th>731</th>\n",
       "      <td>0.0</td>\n",
       "      <td>1.0</td>\n",
       "      <td>0.0</td>\n",
       "      <td>0.0</td>\n",
       "      <td>0.0</td>\n",
       "    </tr>\n",
       "    <tr>\n",
       "      <th>732</th>\n",
       "      <td>0.0</td>\n",
       "      <td>0.0</td>\n",
       "      <td>0.0</td>\n",
       "      <td>1.0</td>\n",
       "      <td>0.0</td>\n",
       "    </tr>\n",
       "    <tr>\n",
       "      <th>733</th>\n",
       "      <td>1.0</td>\n",
       "      <td>0.0</td>\n",
       "      <td>0.0</td>\n",
       "      <td>0.0</td>\n",
       "      <td>0.0</td>\n",
       "    </tr>\n",
       "    <tr>\n",
       "      <th>734</th>\n",
       "      <td>0.0</td>\n",
       "      <td>0.0</td>\n",
       "      <td>1.0</td>\n",
       "      <td>0.0</td>\n",
       "      <td>0.0</td>\n",
       "    </tr>\n",
       "  </tbody>\n",
       "</table>\n",
       "<p>735 rows × 5 columns</p>\n",
       "</div>"
      ],
      "text/plain": [
       "       0    1    2    3    4\n",
       "0    0.0  0.0  0.0  1.0  0.0\n",
       "1    0.0  0.0  0.0  0.0  1.0\n",
       "2    0.0  0.0  0.0  1.0  0.0\n",
       "3    1.0  0.0  0.0  0.0  0.0\n",
       "4    0.0  0.0  0.0  1.0  0.0\n",
       "..   ...  ...  ...  ...  ...\n",
       "730  1.0  0.0  0.0  0.0  0.0\n",
       "731  0.0  1.0  0.0  0.0  0.0\n",
       "732  0.0  0.0  0.0  1.0  0.0\n",
       "733  1.0  0.0  0.0  0.0  0.0\n",
       "734  0.0  0.0  1.0  0.0  0.0\n",
       "\n",
       "[735 rows x 5 columns]"
      ]
     },
     "execution_count": 228,
     "metadata": {},
     "output_type": "execute_result"
    }
   ],
   "source": [
    "test_label"
   ]
  },
  {
   "cell_type": "code",
   "execution_count": 229,
   "metadata": {
    "colab": {
     "base_uri": "https://localhost:8080/"
    },
    "id": "2CUosAW0aij-",
    "outputId": "a3e198f3-f6af-4ed6-c7bb-ffea4f4f5250"
   },
   "outputs": [
    {
     "data": {
      "text/plain": [
       "array([3, 4, 3, 0, 3, 3, 2, 2, 1, 0, 0, 4, 2, 4, 1, 3, 2, 4, 1, 1, 0, 2,\n",
       "       3, 0, 2, 3, 0, 3, 3, 0, 2, 4, 0, 0, 3, 3, 3, 0, 1, 4, 4, 2, 1, 4,\n",
       "       3, 4, 1, 0, 2, 0, 2, 0, 0, 0, 4, 2, 4, 1, 3, 4, 3, 1, 4, 2, 1, 1,\n",
       "       3, 4, 3, 3, 4, 3, 0, 2, 4, 3, 4, 4, 4, 1, 2, 3, 1, 1, 0, 1, 0, 1,\n",
       "       0, 4, 2, 2, 3, 4, 3, 3, 3, 3, 3, 3, 2, 3, 0, 1, 0, 3, 2, 3, 2, 1,\n",
       "       3, 0, 1, 3, 2, 3, 2, 3, 2, 0, 1, 0, 1, 1, 4, 3, 0, 1, 0, 1, 0, 2,\n",
       "       2, 4, 0, 0, 2, 4, 1, 3, 0, 4, 3, 1, 0, 3, 3, 1, 1, 4, 0, 4, 2, 4,\n",
       "       3, 3, 3, 3, 1, 4, 0, 4, 0, 4, 0, 4, 1, 4, 4, 2, 0, 2, 0, 0, 1, 2,\n",
       "       4, 0, 0, 4, 3, 2, 3, 2, 4, 4, 2, 0, 2, 4, 2, 0, 1, 3, 4, 4, 0, 4,\n",
       "       2, 0, 3, 2, 0, 1, 0, 0, 3, 4, 0, 3, 1, 1, 3, 1, 3, 4, 2, 1, 3, 1,\n",
       "       3, 1, 2, 2, 4, 1, 0, 2, 0, 4, 0, 3, 2, 2, 0, 2, 3, 0, 4, 2, 3, 2,\n",
       "       0, 3, 4, 4, 2, 0, 2, 0, 0, 3, 4, 2, 1, 4, 1, 4, 3, 3, 4, 3, 3, 3,\n",
       "       1, 3, 2, 4, 0, 3, 0, 3, 0, 3, 1, 0, 0, 1, 2, 0, 3, 3, 4, 3, 3, 1,\n",
       "       0, 3, 4, 2, 1, 0, 0, 2, 3, 1, 4, 0, 3, 3, 4, 1, 3, 0, 4, 0, 3, 2,\n",
       "       2, 1, 2, 1, 2, 0, 2, 4, 0, 3, 4, 3, 2, 3, 2, 2, 4, 2, 3, 4, 2, 4,\n",
       "       4, 1, 2, 4, 2, 0, 2, 3, 4, 1, 1, 2, 3, 4, 4, 1, 4, 0, 3, 1, 4, 0,\n",
       "       2, 4, 4, 2, 2, 3, 0, 4, 3, 2, 2, 0, 4, 3, 2, 0, 2, 2, 4, 1, 0, 0,\n",
       "       3, 3, 3, 4, 3, 2, 4, 4, 2, 0, 3, 3, 1, 1, 3, 4, 4, 3, 4, 1, 2, 4,\n",
       "       3, 0, 2, 1, 0, 4, 3, 2, 0, 0, 2, 4, 3, 2, 0, 4, 0, 4, 3, 3, 2, 0,\n",
       "       4, 3, 2, 0, 0, 4, 2, 4, 0, 2, 0, 1, 0, 1, 4, 1, 3, 0, 2, 0, 3, 1,\n",
       "       0, 1, 1, 3, 4, 1, 4, 0, 2, 1, 2, 2, 3, 0, 3, 2, 1, 1, 0, 0, 3, 2,\n",
       "       4, 0, 2, 0, 3, 3, 2, 3, 4, 0, 2, 3, 2, 4, 0, 2, 4, 2, 2, 1, 4, 3,\n",
       "       3, 2, 0, 4, 2, 3, 3, 1, 0, 1, 1, 0, 2, 3, 2, 4, 4, 0, 2, 3, 0, 3,\n",
       "       0, 2, 0, 3, 2, 4, 3, 2, 0, 4, 2, 3, 2, 1, 3, 2, 0, 0, 0, 4, 2, 2,\n",
       "       3, 0, 4, 4, 4, 3, 4, 2, 0, 0, 3, 1, 2, 0, 4, 4, 3, 4, 0, 3, 0, 0,\n",
       "       0, 2, 2, 1, 1, 1, 2, 4, 4, 2, 1, 0, 3, 3, 2, 1, 2, 3, 0, 0, 0, 1,\n",
       "       4, 3, 0, 2, 2, 4, 2, 3, 2, 0, 4, 0, 3, 3, 4, 3, 1, 4, 1, 4, 3, 2,\n",
       "       2, 4, 4, 1, 1, 2, 0, 0, 4, 0, 0, 0, 3, 1, 0, 3, 0, 3, 4, 0, 2, 3,\n",
       "       0, 3, 3, 1, 2, 4, 3, 0, 3, 0, 3, 3, 2, 4, 0, 4, 0, 3, 4, 0, 1, 0,\n",
       "       1, 3, 4, 0, 0, 0, 2, 3, 1, 4, 0, 3, 1, 0, 1, 0, 2, 3, 3, 0, 4, 3,\n",
       "       4, 0, 0, 1, 0, 1, 4, 3, 2, 4, 2, 4, 3, 4, 1, 0, 0, 1, 2, 3, 3, 3,\n",
       "       1, 4, 2, 1, 3, 3, 2, 4, 2, 1, 3, 1, 3, 4, 4, 3, 3, 0, 4, 1, 0, 4,\n",
       "       0, 0, 3, 1, 2, 1, 4, 2, 0, 2, 3, 4, 4, 2, 1, 0, 4, 1, 1, 2, 2, 0,\n",
       "       2, 2, 4, 3, 0, 1, 4, 0, 2])"
      ]
     },
     "execution_count": 229,
     "metadata": {},
     "output_type": "execute_result"
    }
   ],
   "source": [
    "predicted = []\n",
    "for i in predictions:\n",
    "  predicted.append(np.argmax(i))\n",
    "\n",
    "predicted = np.array(predicted)\n",
    "predicted"
   ]
  },
  {
   "cell_type": "code",
   "execution_count": 230,
   "metadata": {
    "colab": {
     "base_uri": "https://localhost:8080/"
    },
    "id": "IpA9xVsXs3AO",
    "outputId": "3d0622b4-fce7-425c-d169-f74736038e95"
   },
   "outputs": [
    {
     "name": "stdout",
     "output_type": "stream",
     "text": [
      "[[0 0 0 1 0]\n",
      " [0 0 0 0 1]\n",
      " [0 0 0 1 0]\n",
      " ...\n",
      " [0 0 0 0 1]\n",
      " [1 0 0 0 0]\n",
      " [0 0 1 0 0]]\n"
     ]
    }
   ],
   "source": [
    "import sklearn.preprocessing\n",
    "label_binarizer = sklearn.preprocessing.LabelBinarizer()\n",
    "label_binarizer.fit(range(max(predicted)+1))\n",
    "predicted = label_binarizer.transform(predicted)\n",
    "print(predicted)"
   ]
  },
  {
   "cell_type": "code",
   "execution_count": 231,
   "metadata": {
    "colab": {
     "base_uri": "https://localhost:8080/"
    },
    "id": "NqfJadT1gp0K",
    "outputId": "159faeba-4d82-472d-81df-c36bfe242227"
   },
   "outputs": [
    {
     "data": {
      "text/plain": [
       "(735, 5)"
      ]
     },
     "execution_count": 231,
     "metadata": {},
     "output_type": "execute_result"
    }
   ],
   "source": [
    "predicted.shape"
   ]
  },
  {
   "cell_type": "code",
   "execution_count": 232,
   "metadata": {
    "colab": {
     "base_uri": "https://localhost:8080/"
    },
    "id": "g5c2UyW8etu_",
    "outputId": "ebe5013e-700c-475d-8359-3b54d157fe02"
   },
   "outputs": [
    {
     "name": "stdout",
     "output_type": "stream",
     "text": [
      "23/23 [==============================] - 3s 113ms/step - loss: 0.1708 - accuracy: 0.9578\n",
      "Test Loss: 0.17077703773975372\n",
      "Test Accuracy: 0.9578231573104858\n"
     ]
    }
   ],
   "source": [
    "test_loss, test_acc = model.evaluate(sequence_test, test_label)\n",
    "print('Test Loss:', test_loss)\n",
    "print('Test Accuracy:', test_acc)"
   ]
  },
  {
   "cell_type": "code",
   "execution_count": 233,
   "metadata": {
    "colab": {
     "base_uri": "https://localhost:8080/"
    },
    "id": "s8rVTTJLgsHP",
    "outputId": "db43dc11-4cf1-4382-fdf6-7488bc1782bc"
   },
   "outputs": [
    {
     "data": {
      "text/plain": [
       "0.9575918171632573"
      ]
     },
     "execution_count": 233,
     "metadata": {},
     "output_type": "execute_result"
    }
   ],
   "source": [
    "from sklearn import metrics\n",
    "metrics.f1_score(test_label, predicted, average='macro')"
   ]
  },
  {
   "cell_type": "markdown",
   "metadata": {
    "id": "9q7ohWBU7jWG"
   },
   "source": [
    "**Dynamic Meta Embedding**"
   ]
  },
  {
   "cell_type": "code",
   "execution_count": 244,
   "metadata": {
    "id": "OgRJszg16lsA"
   },
   "outputs": [],
   "source": [
    " \n",
    "def Concat_Emb(list_emb, maxlen):\n",
    "    \n",
    "    inputs = []\n",
    "    output = []\n",
    "    inp = Input(shape=(maxlen,))\n",
    "    inputs.append(inp)\n",
    "    for embedding in list_emb:\n",
    "        \n",
    "        \n",
    "        emb = Embedding(len(tokenizer.word_index)+1 , 300, weights=[embedding], trainable=False)(inp)\n",
    "        emb = Reshape((-1,300,1))(emb)\n",
    "        \n",
    "        output.append(emb)\n",
    "        \n",
    "    concat = Concatenate(axis=-1)(output)\n",
    "    \n",
    "    return Model(inputs, concat)"
   ]
  },
  {
   "cell_type": "code",
   "execution_count": 245,
   "metadata": {
    "colab": {
     "base_uri": "https://localhost:8080/"
    },
    "id": "9hEs68497wld",
    "outputId": "edbcecc7-be8b-4a5c-e52d-201d84bac280"
   },
   "outputs": [
    {
     "name": "stdout",
     "output_type": "stream",
     "text": [
      "Model: \"model_16\"\n",
      "__________________________________________________________________________________________________\n",
      "Layer (type)                    Output Shape         Param #     Connected to                     \n",
      "==================================================================================================\n",
      "input_13 (InputLayer)           [(None, 500)]        0                                            \n",
      "__________________________________________________________________________________________________\n",
      "embedding_28 (Embedding)        (None, 500, 300)     7451100     input_13[0][0]                   \n",
      "__________________________________________________________________________________________________\n",
      "embedding_29 (Embedding)        (None, 500, 300)     7451100     input_13[0][0]                   \n",
      "__________________________________________________________________________________________________\n",
      "reshape_24 (Reshape)            (None, 500, 300, 1)  0           embedding_28[0][0]               \n",
      "__________________________________________________________________________________________________\n",
      "reshape_25 (Reshape)            (None, 500, 300, 1)  0           embedding_29[0][0]               \n",
      "__________________________________________________________________________________________________\n",
      "concatenate_8 (Concatenate)     (None, 500, 300, 2)  0           reshape_24[0][0]                 \n",
      "                                                                 reshape_25[0][0]                 \n",
      "==================================================================================================\n",
      "Total params: 14,902,200\n",
      "Trainable params: 0\n",
      "Non-trainable params: 14,902,200\n",
      "__________________________________________________________________________________________________\n"
     ]
    }
   ],
   "source": [
    "read_emb = Concat_Emb([embedding_matrix_ft , embedding_matrix_glove], maxlen=max_len)\n",
    "read_emb.summary()"
   ]
  },
  {
   "cell_type": "code",
   "execution_count": 246,
   "metadata": {
    "id": "UpeU3dpm8A-S"
   },
   "outputs": [],
   "source": [
    "es = 300\n",
    "n = 2\n",
    "def DME(maxlen):\n",
    "\n",
    "    inp = Input(shape=(maxlen, es, n))\n",
    "    x = Reshape((maxlen, es*n))(inp)\n",
    "    temp = Dense(es*n , activation = None)(x)\n",
    "    proj2mul = Reshape((maxlen , es , n))(temp)\n",
    "    proj = Permute((1 , 3 , 2 ))(proj2mul)\n",
    "    alphas = Dense(1 , activation = None)(proj)\n",
    "    alphas = Activation('softmax')(alphas)\n",
    "    alphas2mul = Permute((1 , 3, 2))(alphas)\n",
    "    x = multiply([proj2mul , alphas2mul])\n",
    "    out = Lambda(lambda t: K.sum(t, axis=-1))(x)\n",
    "    print('Out' , out.shape)\n",
    "    return Model(inp, out)\n"
   ]
  },
  {
   "cell_type": "code",
   "execution_count": 247,
   "metadata": {
    "colab": {
     "base_uri": "https://localhost:8080/"
    },
    "id": "xFMG6pOX8Gv9",
    "outputId": "261dfe00-04c9-4b97-82c5-5eccd020f295"
   },
   "outputs": [
    {
     "name": "stdout",
     "output_type": "stream",
     "text": [
      "Out (None, 500, 300)\n",
      "Model: \"model_19\"\n",
      "__________________________________________________________________________________________________\n",
      "Layer (type)                    Output Shape         Param #     Connected to                     \n",
      "==================================================================================================\n",
      "input_14 (InputLayer)           [(None, 500)]        0                                            \n",
      "__________________________________________________________________________________________________\n",
      "embedding_30 (Embedding)        (None, 500, 300)     7451100     input_14[0][0]                   \n",
      "__________________________________________________________________________________________________\n",
      "embedding_31 (Embedding)        (None, 500, 300)     7451100     input_14[0][0]                   \n",
      "__________________________________________________________________________________________________\n",
      "reshape_26 (Reshape)            (None, 500, 300, 1)  0           embedding_30[0][0]               \n",
      "__________________________________________________________________________________________________\n",
      "reshape_27 (Reshape)            (None, 500, 300, 1)  0           embedding_31[0][0]               \n",
      "__________________________________________________________________________________________________\n",
      "concatenate_9 (Concatenate)     (None, 500, 300, 2)  0           reshape_26[0][0]                 \n",
      "                                                                 reshape_27[0][0]                 \n",
      "__________________________________________________________________________________________________\n",
      "model_18 (Functional)           (None, 500, 300)     360901      concatenate_9[0][0]              \n",
      "__________________________________________________________________________________________________\n",
      "conv1d_16 (Conv1D)              (None, 496, 128)     192128      model_18[0][0]                   \n",
      "__________________________________________________________________________________________________\n",
      "max_pooling1d_16 (MaxPooling1D) (None, 248, 128)     0           conv1d_16[0][0]                  \n",
      "__________________________________________________________________________________________________\n",
      "lstm_20 (LSTM)                  (None, 248, 128)     131584      max_pooling1d_16[0][0]           \n",
      "__________________________________________________________________________________________________\n",
      "lstm_21 (LSTM)                  (None, 32)           20608       lstm_20[0][0]                    \n",
      "__________________________________________________________________________________________________\n",
      "dense_27 (Dense)                (None, 5)            165         lstm_21[0][0]                    \n",
      "==================================================================================================\n",
      "Total params: 15,607,586\n",
      "Trainable params: 705,386\n",
      "Non-trainable params: 14,902,200\n",
      "__________________________________________________________________________________________________\n"
     ]
    }
   ],
   "source": [
    "concat_inp = Concat_Emb([embedding_matrix_ft , embedding_matrix_glove], maxlen=max_len)\n",
    "dme = DME(max_len)\n",
    "x = dme(concat_inp.output)\n",
    "x = Conv1D(filters=128, kernel_size=5, activation='relu')(x)\n",
    "x = MaxPooling1D(pool_size=2)(x)\n",
    "x = LSTM(128, dropout=0.2, return_sequences=True)(x)\n",
    "x = LSTM(32, dropout=0.2)(x)\n",
    "out = Dense(5, activation='softmax')(x)\n",
    "\n",
    "dme_model = Model(concat_inp.input, out)\n",
    "dme_model.compile(loss='categorical_crossentropy', optimizer='adam', metrics=['accuracy'])\n",
    "\n",
    "dme_model.summary()"
   ]
  },
  {
   "cell_type": "code",
   "execution_count": 248,
   "metadata": {
    "colab": {
     "base_uri": "https://localhost:8080/"
    },
    "id": "t5vAQ_i19YKk",
    "outputId": "3ddb0d25-33ef-49be-c834-963216e73293"
   },
   "outputs": [
    {
     "name": "stdout",
     "output_type": "stream",
     "text": [
      "Epoch 1/20\n",
      "38/38 [==============================] - 51s 1s/step - loss: 0.7885 - accuracy: 0.7416 - val_loss: 0.3282 - val_accuracy: 0.9027\n",
      "Epoch 2/20\n",
      "38/38 [==============================] - 48s 1s/step - loss: 0.2521 - accuracy: 0.9304 - val_loss: 0.2746 - val_accuracy: 0.9161\n",
      "Epoch 3/20\n",
      "38/38 [==============================] - 48s 1s/step - loss: 0.2334 - accuracy: 0.9362 - val_loss: 0.1753 - val_accuracy: 0.9530\n",
      "Epoch 4/20\n",
      "38/38 [==============================] - 48s 1s/step - loss: 0.1257 - accuracy: 0.9673 - val_loss: 0.1653 - val_accuracy: 0.9530\n",
      "Epoch 5/20\n",
      "38/38 [==============================] - 48s 1s/step - loss: 0.1335 - accuracy: 0.9589 - val_loss: 0.1905 - val_accuracy: 0.9497\n",
      "Epoch 6/20\n",
      "38/38 [==============================] - 48s 1s/step - loss: 0.1251 - accuracy: 0.9622 - val_loss: 0.1217 - val_accuracy: 0.9564\n",
      "Epoch 7/20\n",
      "38/38 [==============================] - 48s 1s/step - loss: 0.1072 - accuracy: 0.9673 - val_loss: 0.1872 - val_accuracy: 0.9396\n",
      "Epoch 8/20\n",
      "38/38 [==============================] - 48s 1s/step - loss: 0.1032 - accuracy: 0.9715 - val_loss: 0.1621 - val_accuracy: 0.9430\n",
      "Epoch 9/20\n",
      "38/38 [==============================] - 48s 1s/step - loss: 0.0721 - accuracy: 0.9824 - val_loss: 0.1258 - val_accuracy: 0.9564\n"
     ]
    },
    {
     "data": {
      "text/plain": [
       "<keras.callbacks.History at 0x7f1853acccd0>"
      ]
     },
     "execution_count": 248,
     "metadata": {},
     "output_type": "execute_result"
    }
   ],
   "source": [
    "callback = tf.keras.callbacks.EarlyStopping(monitor = 'val_loss', patience= 3)\n",
    "dme_model.fit(sequence_train, y_train_label, batch_size=32, epochs=20, verbose=1, validation_split=0.2 , callbacks=[callback])"
   ]
  },
  {
   "cell_type": "code",
   "execution_count": 249,
   "metadata": {
    "colab": {
     "base_uri": "https://localhost:8080/"
    },
    "id": "TaOZ83Y49iqK",
    "outputId": "5feb3226-8c3f-4ab3-c714-cf1a69587169"
   },
   "outputs": [
    {
     "name": "stdout",
     "output_type": "stream",
     "text": [
      "23/23 [==============================] - 11s 429ms/step - loss: 0.1892 - accuracy: 0.9469\n",
      "Test Loss: 0.18916213512420654\n",
      "Test Accuracy: 0.9469387531280518\n"
     ]
    }
   ],
   "source": [
    "test_loss, test_acc = dme_model.evaluate(sequence_test, test_label)\n",
    "\n",
    "print('Test Loss:', test_loss)\n",
    "print('Test Accuracy:', test_acc)"
   ]
  },
  {
   "cell_type": "code",
   "execution_count": 250,
   "metadata": {
    "colab": {
     "base_uri": "https://localhost:8080/"
    },
    "id": "j6B3VvNK-Q19",
    "outputId": "3567f4c7-cbfb-4406-898b-f50a3609994a"
   },
   "outputs": [
    {
     "data": {
      "text/plain": [
       "array([[3.4577393e-03, 1.5613920e-02, 7.9456894e-03, 9.7078800e-01,\n",
       "        2.1946128e-03],\n",
       "       [6.4016722e-02, 1.1313305e-02, 1.1968667e-02, 5.8176147e-04,\n",
       "        9.1211951e-01],\n",
       "       [3.0592218e-04, 1.0430170e-03, 2.3554298e-03, 9.9554718e-01,\n",
       "        7.4844621e-04],\n",
       "       ...,\n",
       "       [4.2016464e-01, 3.7357602e-03, 9.6887939e-02, 2.5333904e-03,\n",
       "        4.7667822e-01],\n",
       "       [9.9359798e-01, 1.1921787e-03, 2.3919668e-03, 1.0231412e-03,\n",
       "        1.7947468e-03],\n",
       "       [3.3974189e-02, 1.2709067e-02, 9.4309551e-01, 9.0631107e-03,\n",
       "        1.1582236e-03]], dtype=float32)"
      ]
     },
     "execution_count": 250,
     "metadata": {},
     "output_type": "execute_result"
    }
   ],
   "source": [
    "predictions = dme_model.predict(sequence_test)\n",
    "predictions"
   ]
  },
  {
   "cell_type": "code",
   "execution_count": 251,
   "metadata": {
    "colab": {
     "base_uri": "https://localhost:8080/"
    },
    "id": "BPCQgRfb-2WJ",
    "outputId": "de294e39-907d-4766-c536-32ac66d74177"
   },
   "outputs": [
    {
     "data": {
      "text/plain": [
       "array([3, 4, 3, 0, 3, 3, 2, 2, 1, 0, 0, 4, 2, 4, 1, 3, 2, 4, 1, 1, 0, 2,\n",
       "       3, 0, 2, 3, 0, 3, 3, 0, 2, 4, 0, 0, 3, 3, 3, 0, 1, 1, 1, 2, 1, 4,\n",
       "       3, 4, 1, 0, 2, 0, 2, 0, 0, 0, 4, 0, 4, 1, 3, 4, 3, 1, 4, 2, 1, 1,\n",
       "       3, 4, 3, 3, 4, 3, 0, 2, 4, 3, 4, 4, 4, 1, 2, 3, 1, 1, 0, 1, 0, 1,\n",
       "       0, 4, 2, 2, 3, 4, 3, 3, 3, 3, 3, 3, 2, 3, 0, 1, 0, 3, 2, 3, 2, 1,\n",
       "       3, 0, 1, 3, 2, 3, 2, 3, 2, 0, 1, 0, 1, 1, 4, 3, 0, 1, 0, 1, 0, 2,\n",
       "       2, 4, 0, 0, 2, 4, 1, 3, 0, 4, 3, 1, 0, 3, 3, 1, 1, 4, 0, 4, 2, 4,\n",
       "       3, 3, 3, 3, 1, 4, 0, 4, 0, 4, 0, 4, 1, 4, 4, 2, 0, 2, 0, 0, 1, 2,\n",
       "       4, 0, 0, 4, 3, 2, 3, 2, 4, 1, 2, 0, 2, 1, 2, 0, 1, 3, 4, 4, 0, 4,\n",
       "       2, 0, 3, 2, 0, 1, 0, 0, 3, 4, 0, 3, 1, 1, 3, 1, 3, 4, 2, 1, 3, 1,\n",
       "       3, 1, 2, 2, 4, 1, 0, 2, 0, 4, 0, 3, 2, 2, 0, 0, 3, 0, 0, 2, 3, 2,\n",
       "       0, 3, 4, 0, 2, 0, 2, 0, 0, 3, 4, 2, 1, 4, 1, 4, 3, 3, 4, 3, 3, 3,\n",
       "       1, 3, 2, 4, 0, 3, 0, 3, 0, 3, 1, 0, 0, 1, 2, 0, 3, 3, 4, 3, 3, 1,\n",
       "       0, 3, 4, 2, 1, 0, 0, 2, 3, 1, 0, 0, 3, 3, 4, 1, 3, 0, 4, 0, 3, 2,\n",
       "       0, 1, 2, 1, 2, 0, 2, 4, 0, 3, 4, 1, 0, 3, 2, 2, 4, 2, 3, 4, 2, 4,\n",
       "       4, 1, 2, 4, 2, 0, 0, 2, 4, 1, 1, 0, 3, 4, 4, 1, 4, 0, 3, 1, 4, 0,\n",
       "       2, 4, 4, 2, 2, 3, 0, 4, 3, 2, 2, 0, 4, 3, 2, 0, 2, 2, 4, 1, 0, 0,\n",
       "       3, 3, 3, 4, 4, 2, 4, 4, 2, 0, 3, 3, 1, 1, 3, 4, 4, 3, 4, 1, 2, 4,\n",
       "       3, 0, 2, 1, 0, 4, 3, 2, 0, 0, 2, 4, 3, 1, 0, 4, 0, 4, 4, 3, 2, 0,\n",
       "       4, 3, 2, 0, 0, 4, 2, 4, 0, 2, 0, 1, 0, 1, 0, 1, 2, 0, 2, 0, 3, 1,\n",
       "       0, 1, 1, 3, 4, 1, 4, 0, 2, 1, 2, 2, 3, 0, 0, 2, 1, 1, 0, 0, 3, 2,\n",
       "       4, 0, 2, 0, 3, 3, 2, 3, 4, 0, 2, 3, 2, 4, 0, 2, 4, 2, 0, 1, 4, 3,\n",
       "       3, 2, 0, 4, 0, 3, 3, 1, 0, 1, 1, 0, 2, 3, 2, 4, 4, 0, 2, 3, 0, 3,\n",
       "       0, 2, 0, 3, 2, 4, 3, 2, 0, 4, 2, 3, 2, 1, 3, 2, 0, 0, 0, 4, 2, 2,\n",
       "       3, 0, 4, 4, 4, 3, 4, 2, 0, 0, 3, 0, 2, 0, 4, 4, 3, 4, 0, 3, 0, 0,\n",
       "       0, 2, 2, 1, 1, 1, 2, 4, 4, 2, 1, 0, 3, 3, 2, 1, 2, 3, 0, 0, 0, 1,\n",
       "       4, 3, 0, 2, 2, 4, 2, 3, 2, 0, 4, 0, 3, 3, 4, 3, 1, 4, 1, 4, 3, 0,\n",
       "       0, 4, 4, 1, 1, 2, 0, 0, 4, 0, 0, 0, 3, 1, 0, 3, 0, 3, 4, 0, 2, 3,\n",
       "       0, 3, 3, 1, 2, 4, 3, 0, 3, 0, 3, 3, 2, 4, 0, 4, 0, 3, 4, 0, 1, 0,\n",
       "       1, 3, 4, 0, 0, 0, 2, 3, 1, 4, 0, 3, 1, 0, 1, 0, 2, 3, 3, 0, 4, 0,\n",
       "       0, 0, 0, 1, 0, 1, 4, 3, 2, 4, 2, 4, 3, 4, 1, 0, 0, 1, 2, 3, 3, 3,\n",
       "       1, 4, 2, 1, 3, 3, 2, 4, 2, 1, 3, 1, 3, 1, 4, 3, 3, 0, 4, 1, 0, 4,\n",
       "       0, 0, 3, 1, 2, 1, 0, 2, 0, 2, 3, 4, 4, 2, 1, 0, 4, 1, 1, 2, 0, 0,\n",
       "       2, 2, 4, 3, 0, 1, 4, 0, 2])"
      ]
     },
     "execution_count": 251,
     "metadata": {},
     "output_type": "execute_result"
    }
   ],
   "source": [
    "predicted_dme = []\n",
    "for i in predictions:\n",
    "  predicted_dme.append(np.argmax(i))\n",
    "\n",
    "predicted_dme = np.array(predicted_dme)\n",
    "predicted_dme"
   ]
  },
  {
   "cell_type": "code",
   "execution_count": 252,
   "metadata": {
    "colab": {
     "base_uri": "https://localhost:8080/"
    },
    "id": "McXkK8Ms-9KY",
    "outputId": "e7eece8f-fbe4-4f5a-e4ac-b437b5681f0c"
   },
   "outputs": [
    {
     "name": "stdout",
     "output_type": "stream",
     "text": [
      "[[0 0 0 1 0]\n",
      " [0 0 0 0 1]\n",
      " [0 0 0 1 0]\n",
      " ...\n",
      " [0 0 0 0 1]\n",
      " [1 0 0 0 0]\n",
      " [0 0 1 0 0]]\n"
     ]
    }
   ],
   "source": [
    "label_binarizer = sklearn.preprocessing.LabelBinarizer()\n",
    "label_binarizer.fit(range(max(predicted_dme)+1))\n",
    "predicted_dme = label_binarizer.transform(predicted_dme)\n",
    "print(predicted_dme)"
   ]
  },
  {
   "cell_type": "code",
   "execution_count": 253,
   "metadata": {
    "colab": {
     "base_uri": "https://localhost:8080/"
    },
    "id": "3124c8BV_HD8",
    "outputId": "57d63fbb-ab25-41ba-a798-1b942b375f2b"
   },
   "outputs": [
    {
     "data": {
      "text/plain": [
       "0.9474367293083701"
      ]
     },
     "execution_count": 253,
     "metadata": {},
     "output_type": "execute_result"
    }
   ],
   "source": [
    "metrics.f1_score(test_label, predicted_dme, average='macro')"
   ]
  },
  {
   "cell_type": "code",
   "execution_count": null,
   "metadata": {
    "id": "U37O4_qa_Oha"
   },
   "outputs": [],
   "source": []
  }
 ],
 "metadata": {
  "colab": {
   "name": "DLNP_AssignmenT4.ipynb",
   "provenance": []
  },
  "kernelspec": {
   "display_name": "Python 3",
   "language": "python",
   "name": "python3"
  },
  "language_info": {
   "codemirror_mode": {
    "name": "ipython",
    "version": 3
   },
   "file_extension": ".py",
   "mimetype": "text/x-python",
   "name": "python",
   "nbconvert_exporter": "python",
   "pygments_lexer": "ipython3",
   "version": "3.8.5"
  }
 },
 "nbformat": 4,
 "nbformat_minor": 1
}
